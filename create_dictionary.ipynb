{
 "cells": [
  {
   "cell_type": "markdown",
   "metadata": {},
   "source": [
    "## Word2Vec 4Lakh words, dim 300 and Vec2Word pt files "
   ]
  },
  {
   "cell_type": "code",
   "execution_count": 3,
   "metadata": {},
   "outputs": [
    {
     "name": "stdout",
     "output_type": "stream",
     "text": [
      "features torch.Size([1, 2048, 1, 1])\n"
     ]
    }
   ],
   "source": [
    "import torch\n",
    "import torch.nn as nn\n",
    "import torchvision.models as models\n",
    "from torch.autograd import Variable\n",
    "resnet152 = models.resnet152(pretrained=True)\n",
    "modules=list(resnet152.children())[:-1]\n",
    "resnet152=nn.Sequential(*modules)\n",
    "for p in resnet152.parameters():\n",
    "    p.requires_grad = False\n",
    "\n",
    "img = torch.Tensor(3, 224, 224).normal_() # random image\n",
    "img.unsqueeze_(0)\n",
    "img_var = Variable(img) # assign it to a variable\n",
    "features_var = resnet152(img_var) # get the output from the last hidden layer of the pretrained resnet\n",
    "features = features_var.data # get the tensor out of the variable\n",
    "print('features', features.size())"
   ]
  },
  {
   "cell_type": "code",
   "execution_count": 1,
   "metadata": {},
   "outputs": [],
   "source": [
    "import os\n",
    "import torch\n",
    "import numpy as np\n",
    "import nltk\n",
    "\n",
    "glove_path = '../dataset_224/activitynet/glove.6B.300d.txt'\n",
    "word2vec_path = '../dataset_224/activitynet/word2vec.pt'\n",
    "vec2word_path = '../dataset_224/activitynet/vec2word.pt'\n",
    "dataset_path = '../dataset_224/activitynet/m_data.pt'\n"
   ]
  },
  {
   "cell_type": "code",
   "execution_count": 114,
   "metadata": {},
   "outputs": [
    {
     "name": "stdout",
     "output_type": "stream",
     "text": [
      "[Synset('javelin.n.01'), Synset('javelin.n.02')]\n",
      "javelin\n",
      "an athletic competition in which a javelin is thrown as far as possible\n",
      "[]\n"
     ]
    }
   ],
   "source": [
    "# # First, you're going to need to import wordnet:\n",
    "# from nltk.corpus import wordnet\n",
    " \n",
    "# # Then, we're going to use the term \"program\" to find synsets like so:\n",
    "# syns = wordnet.synsets(\"Javelin\")\n",
    "# print(syns)\n",
    "# for item in syns:\n",
    "# #     print(item.name().split('.')[0])\n",
    "#     print(item.lemmas()[0].name())\n",
    "#     print(item.definition())\n",
    "#     print(item.examples())\n",
    "#     break"
   ]
  },
  {
   "cell_type": "markdown",
   "metadata": {},
   "source": [
    "## Set of words in dataset"
   ]
  },
  {
   "cell_type": "code",
   "execution_count": 2,
   "metadata": {
    "scrolled": false
   },
   "outputs": [],
   "source": [
    "dataset = torch.load(dataset_path)\n",
    "data_set = set()\n",
    "for data_kind in dataset:\n",
    "    for _, (_, value) in enumerate(dataset[data_kind].items()):\n",
    "        captions = list(value.keys())\n",
    "        for caption in captions:\n",
    "            tokens = caption.split()\n",
    "            for token in tokens:\n",
    "                data_set.add(token)"
   ]
  },
  {
   "cell_type": "code",
   "execution_count": 9,
   "metadata": {},
   "outputs": [
    {
     "name": "stdout",
     "output_type": "stream",
     "text": [
      "306\n"
     ]
    }
   ],
   "source": [
    "print(len(data_set))"
   ]
  },
  {
   "cell_type": "code",
   "execution_count": 4,
   "metadata": {},
   "outputs": [],
   "source": [
    "def word_in_dataset(word):\n",
    "        return word in data_set"
   ]
  },
  {
   "cell_type": "code",
   "execution_count": 7,
   "metadata": {},
   "outputs": [
    {
     "name": "stdout",
     "output_type": "stream",
     "text": [
      "saved...\n"
     ]
    }
   ],
   "source": [
    "idx = 0\n",
    "word2vec = {}\n",
    "vec2word = {}\n",
    "\n",
    "with open(glove_path, 'r') as file:\n",
    "    for i, line in enumerate(file):\n",
    "            line_list = line.split()\n",
    "            word = line_list[0]\n",
    "            if word_in_dataset(word):\n",
    "                array_str = ' '.join(line_list[1:])\n",
    "                word2vec.update({word:array_str})\n",
    "                vec2word.update({array_str:word})\n",
    "                       \n",
    "    # Save both dictionary to .pt files.\n",
    "    torch.save(word2vec, word2vec_path)\n",
    "    torch.save(vec2word, vec2word_path)\n",
    "    print('saved...')\n"
   ]
  },
  {
   "cell_type": "code",
   "execution_count": 6,
   "metadata": {},
   "outputs": [
    {
     "name": "stdout",
     "output_type": "stream",
     "text": [
      "160\n",
      "160\n"
     ]
    }
   ],
   "source": [
    "dict1 = torch.load(word2vec_path)\n",
    "dict2 = torch.load(vec2word_path)\n",
    "print(len(dict1))\n",
    "print(len(dict2))\n",
    "\n",
    "\n",
    "\n",
    "\n"
   ]
  },
  {
   "cell_type": "markdown",
   "metadata": {},
   "source": [
    "### Truncate word2vec, vec2word to words present in dataset."
   ]
  }
 ],
 "metadata": {
  "kernelspec": {
   "display_name": "Python 3",
   "language": "python",
   "name": "python3"
  },
  "language_info": {
   "codemirror_mode": {
    "name": "ipython",
    "version": 3
   },
   "file_extension": ".py",
   "mimetype": "text/x-python",
   "name": "python",
   "nbconvert_exporter": "python",
   "pygments_lexer": "ipython3",
   "version": "3.6.5"
  }
 },
 "nbformat": 4,
 "nbformat_minor": 2
}

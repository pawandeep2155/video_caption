{
 "cells": [
  {
   "cell_type": "code",
   "execution_count": 45,
   "metadata": {},
   "outputs": [],
   "source": [
    "import torch\n",
    "import torch.nn as nn \n",
    "from torch.utils.data import Dataset, DataLoader\n",
    "from torch import optim\n",
    "import numpy as np\n",
    "\n",
    "batch_size = 10"
   ]
  },
  {
   "cell_type": "code",
   "execution_count": 46,
   "metadata": {},
   "outputs": [],
   "source": [
    "# Generate dummy data\n",
    "input_data = torch.rand((100, 30, 40))\n",
    "output_data = torch.rand((100, 20, 10))"
   ]
  },
  {
   "cell_type": "code",
   "execution_count": 47,
   "metadata": {},
   "outputs": [],
   "source": [
    "# Data loader\n",
    "class Loader(Dataset):\n",
    "    \n",
    "    def __len__(self):\n",
    "        return input_data.size()[0]\n",
    "    \n",
    "    def __getitem__(self, idx):  # idx is index for subset of batch data.\n",
    "        input_frame = input_data[idx]\n",
    "        output_words = output_data[idx]\n",
    "        return input_frame, output_words"
   ]
  },
  {
   "cell_type": "code",
   "execution_count": 52,
   "metadata": {},
   "outputs": [],
   "source": [
    "class EncoderLSTM(nn.Module):\n",
    "    \n",
    "    def __init__(self, input_size, hidden_size):\n",
    "        super(EncoderLSTM, self).__init__()\n",
    "        self.hidden_size = hidden_size\n",
    "        self.input_size = input_size\n",
    "        self.num_layers = 1\n",
    "        self.Lstm = nn.LSTM(input_size = self.input_size, hidden_size=self.hidden_size, \n",
    "                            num_layers=self.num_layers, batch_first=True, bidirectional=True)\n",
    "    \n",
    "    def forward(self, input_state, hidden_state):\n",
    "        output, hidden = self.Lstm(input_state, hidden_state)\n",
    "        return output, hidden\n",
    "    \n",
    "    def initHidden(self):\n",
    "        return (torch.zeros(2,batch_size,self.hidden_size), torch.zeros(2,batch_size,self.hidden_size))\n",
    "        \n",
    "class DecoderLSTM(nn.Module):\n",
    "    \n",
    "    def __init__(self, input_size, hidden_size):\n",
    "        super(DecoderLSTM, self).__init__()\n",
    "        self.hidden_size = hidden_size\n",
    "        self.input_size = input_size\n",
    "        self.num_layers = 1\n",
    "        self.Lstm = nn.LSTM(input_size = self.input_size, hidden_size=self.hidden_size, \n",
    "                            num_layers=self.num_layers, batch_first=True, bidirectional=True)\n",
    "    \n",
    "    def forward(self, input_state, hidden_state):\n",
    "#         print('forward hidden_state', hidden_state.size())\n",
    "        output, hidden = self.Lstm(input_state, hidden_state)\n",
    "        return output, hidden\n",
    "    "
   ]
  },
  {
   "cell_type": "code",
   "execution_count": 55,
   "metadata": {},
   "outputs": [
    {
     "name": "stdout",
     "output_type": "stream",
     "text": [
      "hello\n",
      "0\n",
      "torch.Size([10, 30, 40]) torch.Size([10, 20, 10])\n",
      "encoder hidden <class 'tuple'>\n",
      "output torch.Size([10, 30, 256])\n",
      "decoder output <class 'torch.Tensor'>\n",
      "decoder hidden <class 'tuple'>\n"
     ]
    }
   ],
   "source": [
    "loader = Loader()\n",
    "dataloader = DataLoader(loader, batch_size=batch_size,shuffle=True)\n",
    "\n",
    "enc_input_size = 40\n",
    "dec_input_size = 10\n",
    "\n",
    "hidden_size = 128\n",
    "\n",
    "\n",
    "print('hello')\n",
    "\n",
    "for idx, sample in enumerate(dataloader):\n",
    "    print(idx)\n",
    "    a, b = sample[0], sample[1]\n",
    "    print(a.size(), b.size())\n",
    "    encoder = EncoderLSTM(enc_input_size, hidden_size)\n",
    "    encoder_hidden = encoder.initHidden()\n",
    "    encoder_output, encoder_hidden = encoder(a, encoder_hidden)\n",
    "    \n",
    "    decoder_hn = torch.unsqueeze(encoder_output[:,0,:], 1).transpose(0,1).view(2, batch_size, -1)\n",
    "    decoder_hidden = (decoder_hn, decoder_hn)\n",
    "    decoder = DecoderLSTM(dec_input_size, hidden_size)\n",
    "    decoder_output, decoder_hidden = decoder(b, decoder_hidden)\n",
    "    \n",
    "    print('encoder hidden', type(encoder_hidden))\n",
    "    print('output', encoder_output.size())\n",
    "    print('decoder output', type(decoder_output))\n",
    "    print('decoder hidden', type(decoder_hidden))\n",
    "    break\n",
    "    \n",
    "   "
   ]
  },
  {
   "cell_type": "code",
   "execution_count": null,
   "metadata": {},
   "outputs": [],
   "source": [
    "a = torch.zeros((10,20,30))\n",
    "b = a[:,0,:]\n",
    "print(b.size())\n",
    "b = torch.unsqueeze(b, 1)\n",
    "print(b.size())"
   ]
  }
 ],
 "metadata": {
  "kernelspec": {
   "display_name": "Python 3",
   "language": "python",
   "name": "python3"
  },
  "language_info": {
   "codemirror_mode": {
    "name": "ipython",
    "version": 3
   },
   "file_extension": ".py",
   "mimetype": "text/x-python",
   "name": "python",
   "nbconvert_exporter": "python",
   "pygments_lexer": "ipython3",
   "version": "3.6.5"
  }
 },
 "nbformat": 4,
 "nbformat_minor": 2
}

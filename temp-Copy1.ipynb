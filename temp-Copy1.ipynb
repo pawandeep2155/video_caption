{
 "cells": [
  {
   "cell_type": "code",
   "execution_count": 86,
   "metadata": {},
   "outputs": [],
   "source": [
    "import torch\n",
    "import torch.nn as nn \n",
    "from torch.utils.data import Dataset, DataLoader\n",
    "from torch import optim\n",
    "import torch.nn.functional as F\n",
    "import numpy as np\n",
    "\n",
    "batch_size = 1"
   ]
  },
  {
   "cell_type": "code",
   "execution_count": 87,
   "metadata": {},
   "outputs": [],
   "source": [
    "# Generate dummy data\n",
    "input_data = torch.rand((100, 30, 40))\n",
    "output_data = torch.rand((100, 20, 10))"
   ]
  },
  {
   "cell_type": "code",
   "execution_count": 88,
   "metadata": {},
   "outputs": [],
   "source": [
    "# Data loader\n",
    "class Loader(Dataset):\n",
    "    \n",
    "    def __len__(self):\n",
    "        return input_data.size()[0]\n",
    "    \n",
    "    def __getitem__(self, idx):  # idx is index for subset of batch data.\n",
    "        input_frame = input_data[idx]\n",
    "        output_words = output_data[idx]\n",
    "        return input_frame, output_words"
   ]
  },
  {
   "cell_type": "code",
   "execution_count": 89,
   "metadata": {},
   "outputs": [],
   "source": [
    "class EncoderLSTM(nn.Module):\n",
    "    \n",
    "    def __init__(self, input_size, hidden_size):\n",
    "        super(EncoderLSTM, self).__init__()\n",
    "        self.hidden_size = hidden_size\n",
    "        self.input_size = input_size\n",
    "        self.num_layers = 1\n",
    "        self.Lstm = nn.LSTM(input_size = self.input_size, hidden_size=self.hidden_size, \n",
    "                            num_layers=self.num_layers, batch_first=True)\n",
    "    \n",
    "    def forward(self, input_state, hidden_state):\n",
    "        output, hidden = self.Lstm(input_state, hidden_state)\n",
    "        return output, hidden\n",
    "    \n",
    "    def initHidden(self):\n",
    "        return (torch.zeros(1,batch_size,self.hidden_size), torch.zeros(1,batch_size,self.hidden_size))\n",
    "        \n",
    "class DecoderLSTM(nn.Module):\n",
    "    \n",
    "    def __init__(self, input_size, hidden_size):\n",
    "        super(DecoderLSTM, self).__init__()\n",
    "        self.hidden_size = hidden_size\n",
    "        self.input_size = input_size\n",
    "        self.num_layers = 1\n",
    "        self.Lstm = nn.LSTM(input_size = self.input_size, hidden_size=self.hidden_size, \n",
    "                            num_layers=self.num_layers, batch_first=True)\n",
    "    \n",
    "    def forward(self, input_state, hidden_state):\n",
    "\n",
    "        output, hidden = self.Lstm(input_state, hidden_state)\n",
    "        return output, hidden\n",
    "    "
   ]
  },
  {
   "cell_type": "code",
   "execution_count": 130,
   "metadata": {},
   "outputs": [],
   "source": [
    "class AttnDecoderLSTM(nn.Module):\n",
    "    \n",
    "    def __init__(self, input_size, hidden_size, enc_time_step, enc_output_size):\n",
    "        super(AttnDecoderLSTM, self).__init__()\n",
    "        self.hidden_size = hidden_size\n",
    "        self.input_size = input_size\n",
    "        self.num_layers = 1\n",
    "        self.enc_time_step = enc_time_step\n",
    "        self.enc_output_size = enc_output_size\n",
    "        self.attn_weights = nn.Linear(self.hidden_size+self.enc_output_size,1)\n",
    "        self.Lstm = nn.LSTM(input_size = self.input_size+self.enc_output_size, hidden_size=self.hidden_size, \n",
    "                            num_layers=self.num_layers, batch_first=True)\n",
    "        \n",
    "    def forward(self, input_state, hidden, encoder_output):\n",
    "        hidden_expand = hidden[0].expand(1, self.enc_time_step, self.hidden_size)\n",
    "        \n",
    "        attn_input = torch.cat((hidden_expand, encoder_output),dim=2)\n",
    "        attn_weights = self.attn_weights(attn_input)\n",
    "        attn_weights = attn_weights.view(1,1,-1)\n",
    "        attn_weights = F.softmax(attn_weights, dim=2)\n",
    "        attn = torch.bmm(attn_weights, encoder_output)\n",
    "        \n",
    "        output, hidden = self.Lstm(torch.cat((input_state, attn), dim=2), hidden)\n",
    "        \n",
    "        return output, hidden, attn\n",
    "        "
   ]
  },
  {
   "cell_type": "code",
   "execution_count": 131,
   "metadata": {},
   "outputs": [
    {
     "name": "stdout",
     "output_type": "stream",
     "text": [
      "0\n",
      "torch.Size([1, 30, 40]) torch.Size([1, 20, 10])\n",
      "encoder output torch.Size([1, 30, 128])\n",
      "0\n",
      "1\n",
      "2\n",
      "3\n",
      "4\n",
      "5\n",
      "6\n",
      "7\n",
      "8\n",
      "9\n",
      "10\n",
      "11\n",
      "12\n",
      "13\n",
      "14\n",
      "15\n",
      "16\n",
      "17\n",
      "18\n",
      "19\n"
     ]
    }
   ],
   "source": [
    "loader = Loader()\n",
    "dataloader = DataLoader(loader, batch_size=batch_size,shuffle=True)\n",
    "\n",
    "enc_input_size = 40\n",
    "dec_input_size = 10\n",
    "enc_time_step = input_data.size(1)\n",
    "hidden_size = 128\n",
    "enc_output_size = hidden_size\n",
    "\n",
    "for idx, sample in enumerate(dataloader):\n",
    "    print(idx)\n",
    "    a, b = sample[0], sample[1]\n",
    "    print(a.size(), b.size())\n",
    "    encoder = EncoderLSTM(enc_input_size, hidden_size)\n",
    "    encoder_hidden = encoder.initHidden()\n",
    "    encoder_output, encoder_hidden = encoder(a, encoder_hidden)\n",
    "    \n",
    "    print('encoder output', encoder_output.size())\n",
    "    \n",
    "    decoder_hidden = encoder_hidden\n",
    "    \n",
    "    for i in range(20): # decoder time step. in actual it should be <EOS>\n",
    "        print(i)\n",
    "        decoder = AttnDecoderLSTM(dec_input_size, hidden_size, enc_time_step, enc_output_size)\n",
    "        decoder_output, decoder_hidden,_ = decoder(b[0][i].view(1, 1,-1), decoder_hidden, encoder_output)\n",
    "\n",
    "    break\n",
    "    \n",
    "   "
   ]
  },
  {
   "cell_type": "code",
   "execution_count": null,
   "metadata": {},
   "outputs": [],
   "source": [
    "import torch\n",
    "import torch.nn as nn\n",
    "import torch.nn.functional as F\n",
    "import torch.optim as optim\n",
    "\n",
    "torch.manual_seed(2)\n",
    "\n",
    "######################################################################\n",
    "\n",
    "word_to_ix = {\"hello\": 0, \"world\": 1}\n",
    "embeds = nn.Embedding(2, 5)  # 2 words in vocab, 5 dimensional embeddings\n",
    "lookup_tensor = torch.tensor([word_to_ix[\"hello\"], word_to_ix[\"world\"]], dtype=torch.long)\n",
    "hello_embed = embeds(lookup_tensor)\n",
    "print(hello_embed)"
   ]
  },
  {
   "cell_type": "code",
   "execution_count": null,
   "metadata": {},
   "outputs": [],
   "source": []
  }
 ],
 "metadata": {
  "kernelspec": {
   "display_name": "Python 3",
   "language": "python",
   "name": "python3"
  },
  "language_info": {
   "codemirror_mode": {
    "name": "ipython",
    "version": 3
   },
   "file_extension": ".py",
   "mimetype": "text/x-python",
   "name": "python",
   "nbconvert_exporter": "python",
   "pygments_lexer": "ipython3",
   "version": "3.6.5"
  }
 },
 "nbformat": 4,
 "nbformat_minor": 2
}

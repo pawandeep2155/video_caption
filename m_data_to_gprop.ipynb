{
 "cells": [
  {
   "cell_type": "markdown",
   "metadata": {},
   "source": [
    "## Usage: Convert m_data.pt file to ground truth poposal file grop.pt"
   ]
  },
  {
   "cell_type": "code",
   "execution_count": 18,
   "metadata": {},
   "outputs": [],
   "source": [
    "import os\n",
    "import torch\n",
    "\n",
    "os.environ[\"CUDA_DEVICE_ORDER\"] = \"PCI_BUS_ID\" \n",
    "os.environ[\"CUDA_VISIBLE_DEVICES\"] = \"0\"\n",
    "\n",
    "m_data_path = '../dataset_224/activitynet/m_data.pt'\n",
    "gprop_path = '../dataset_224/activitynet/gprop.pt'\n",
    "\n",
    "assert os.path.exists(m_data_path), 'm_data.pt path does not exsists'"
   ]
  },
  {
   "cell_type": "code",
   "execution_count": 29,
   "metadata": {},
   "outputs": [],
   "source": [
    "def gprop_dict1(id_dict):\n",
    "    ''' Usage: convert id_dict to dictionary with key as id, value as \n",
    "               2D list for start and end time.\n",
    "        Arguments: \n",
    "            id_dict: dictionary with key as id, value as dictionary with key \n",
    "                     as caption, value as 2D list for start and end time.\n",
    "    '''\n",
    "    gdict = {}\n",
    "    for _, (ids,value) in enumerate(id_dict.items()):\n",
    "        time_list = list(value.values())\n",
    "        gdict.update({ids:time_list})\n",
    "    return gdict"
   ]
  },
  {
   "cell_type": "code",
   "execution_count": 30,
   "metadata": {},
   "outputs": [
    {
     "name": "stdout",
     "output_type": "stream",
     "text": [
      "loading m_data file\n",
      "8021 2003 4926\n",
      "Saving dictionary\n",
      "Saved...\n"
     ]
    }
   ],
   "source": [
    "if __name__=='__main__':\n",
    "    print('loading m_data file')\n",
    "    m_data = torch.load(m_data_path)\n",
    "    train_gprop = gprop_dict1(m_data['train'])\n",
    "    valid_gprop = gprop_dict1(m_data['valid'])\n",
    "    test_gprop = gprop_dict1(m_data['test'])\n",
    "    gprop_dict = {'train':train_gprop,'valid':valid_gprop,'test':test_gprop}\n",
    "    \n",
    "    # save dictionary to pt file\n",
    "    print(len(train_gprop), len(valid_gprop), len(test_gprop))\n",
    "    print('Saving dictionary')\n",
    "    state = gprop_dict\n",
    "    torch.save(state, gprop_path) \n",
    "    print('Saved...')"
   ]
  }
 ],
 "metadata": {
  "kernelspec": {
   "display_name": "Python 3",
   "language": "python",
   "name": "python3"
  },
  "language_info": {
   "codemirror_mode": {
    "name": "ipython",
    "version": 3
   },
   "file_extension": ".py",
   "mimetype": "text/x-python",
   "name": "python",
   "nbconvert_exporter": "python",
   "pygments_lexer": "ipython3",
   "version": "3.6.5"
  }
 },
 "nbformat": 4,
 "nbformat_minor": 2
}
